{
 "cells": [
  {
   "cell_type": "code",
   "execution_count": 1,
   "metadata": {},
   "outputs": [
    {
     "name": "stdout",
     "output_type": "stream",
     "text": [
      "Academic license - for non-commercial use only - expires 2021-07-13\n",
      "Using license file /Users/nakayamayasuaki/gurobi.lic\n",
      "Changed value of parameter PreCrush to 1\n",
      "   Prev: 0  Min: 0  Max: 1  Default: 0\n",
      "Changed value of parameter CutPasses to 100000\n",
      "   Prev: -1  Min: -1  Max: 2000000000  Default: -1\n",
      "Changed value of parameter GomoryPasses to 100000\n",
      "   Prev: -1  Min: -1  Max: 2000000000  Default: -1\n",
      "Changed value of parameter MIPFocus to 2\n",
      "   Prev: 0  Min: 0  Max: 3  Default: 0\n",
      "Changed value of parameter ZeroHalfCuts to 2\n",
      "   Prev: -1  Min: -1  Max: 2  Default: -1\n",
      "Changed value of parameter MIPGap to 0.0\n",
      "   Prev: 0.0001  Min: 0.0  Max: inf  Default: 0.0001\n",
      "Changed value of parameter MIPGapAbs to 0.0\n",
      "   Prev: 1e-10  Min: 0.0  Max: inf  Default: 1e-10\n"
     ]
    }
   ],
   "source": [
    "# First we import the Gobnilp class and create a Gobnilp object as usual.\n",
    "\n",
    "import sys, os\n",
    "sys.path.append(os.path.join(os.getcwd(), 'pygobnilp/pygobnilp'))\n",
    "from gobnilp import Gobnilp\n",
    "from scoring import *\n",
    "m = Gobnilp()"
   ]
  },
  {
   "cell_type": "code",
   "execution_count": 2,
   "metadata": {},
   "outputs": [
    {
     "name": "stdout",
     "output_type": "stream",
     "text": [
      "Changed value of parameter PreCrush to 1\n",
      "   Prev: 0  Min: 0  Max: 1  Default: 0\n",
      "Changed value of parameter CutPasses to 100000\n",
      "   Prev: -1  Min: -1  Max: 2000000000  Default: -1\n",
      "Changed value of parameter GomoryPasses to 100000\n",
      "   Prev: -1  Min: -1  Max: 2000000000  Default: -1\n",
      "Changed value of parameter MIPFocus to 2\n",
      "   Prev: 0  Min: 0  Max: 3  Default: 0\n",
      "Changed value of parameter ZeroHalfCuts to 2\n",
      "   Prev: -1  Min: -1  Max: 2  Default: -1\n",
      "Changed value of parameter MIPGap to 0.0\n",
      "   Prev: 0.0001  Min: 0.0  Max: inf  Default: 0.0001\n",
      "Changed value of parameter MIPGapAbs to 0.0\n",
      "   Prev: 1e-10  Min: 0.0  Max: inf  Default: 1e-10\n",
      "**********\n",
      "BN has score -19302.599169177716\n",
      "**********\n",
      "A<-D,G 6188.270705802912\n",
      "D<- -9131.878138970676\n",
      "G<-D,F -16389.820793426905\n",
      "B<-D,E,F,G 4664.772773682562\n",
      "F<-D -3465.173068372829\n",
      "E<-A,D,F,G 625.2068072789771\n",
      "C<-A,B,D,E,G -5776.205287963239\n",
      "H<-A,B,C,D,E,F,G 3982.227832791483\n",
      "**********\n",
      "bnlearn modelstring = \n",
      "[A|D:G][D][G|D:F][B|D:F:G:E][F|D][E|D:A:F:G][C|D:A:B:E:G][H|D:C:A:F:B:E:G]\n",
      "**********\n",
      "CPDAG:\n",
      "Vertices: A,D,G,B,F,E,C,H\n",
      "A->C\n",
      "A->E\n",
      "A->H\n",
      "D-A\n",
      "D->B\n",
      "D->C\n",
      "D->E\n",
      "D-F\n",
      "D-G\n",
      "D->H\n",
      "G-A\n",
      "G->B\n",
      "G->C\n",
      "G->E\n",
      "G->H\n",
      "B->C\n",
      "B->H\n",
      "F->B\n",
      "F->E\n",
      "F-G\n",
      "F->H\n",
      "E->B\n",
      "E->C\n",
      "E->H\n",
      "C->H\n",
      "\n"
     ]
    },
    {
     "data": {
      "image/png": "[encoded data removed]",
      "text/plain": [
       "<Figure size 432x288 with 1 Axes>"
      ]
     },
     "metadata": {},
     "output_type": "display_data"
    }
   ],
   "source": [
    "m = Gobnilp()\n",
    "m.learn('clgaussian.test', data_type='mixed', score='CGaussianLL', palim=None)"
   ]
  },
  {
   "cell_type": "code",
   "execution_count": 3,
   "metadata": {},
   "outputs": [],
   "source": [
    "md = MixedData('clgaussian.test')\n",
    "model = CGaussianLL(md)"
   ]
  },
  {
   "cell_type": "code",
   "execution_count": 4,
   "metadata": {},
   "outputs": [
    {
     "data": {
      "text/plain": [
       "(-1567.5240292460182, 1)"
      ]
     },
     "execution_count": 4,
     "metadata": {},
     "output_type": "execute_result"
    }
   ],
   "source": [
    "model.ll_score(child='A', parents=[])"
   ]
  },
  {
   "cell_type": "code",
   "execution_count": 5,
   "metadata": {},
   "outputs": [
    {
     "data": {
      "text/plain": [
       "(-5229.861118560386, 4)"
      ]
     },
     "execution_count": 5,
     "metadata": {},
     "output_type": "execute_result"
    }
   ],
   "source": [
    "model.ll_score(child='B', parents=['A'])"
   ]
  },
  {
   "cell_type": "code",
   "execution_count": 6,
   "metadata": {},
   "outputs": [
    {
     "data": {
      "text/plain": [
       "(-6450.89370123964, 18)"
      ]
     },
     "execution_count": 6,
     "metadata": {},
     "output_type": "execute_result"
    }
   ],
   "source": [
    "model.ll_score(child='C', parents=['A', 'B'])"
   ]
  },
  {
   "cell_type": "code",
   "execution_count": 7,
   "metadata": {},
   "outputs": [
    {
     "data": {
      "text/plain": [
       "(-1400.5524520680392, 48)"
      ]
     },
     "execution_count": 7,
     "metadata": {},
     "output_type": "execute_result"
    }
   ],
   "source": [
    "model.ll_score(child='D', parents=['A', 'B', 'C', 'H'])"
   ]
  },
  {
   "cell_type": "code",
   "execution_count": 8,
   "metadata": {},
   "outputs": [
    {
     "data": {
      "text/plain": [
       "(-6479.529155424592, 72)"
      ]
     },
     "execution_count": 8,
     "metadata": {},
     "output_type": "execute_result"
    }
   ],
   "source": [
    "model.ll_score(child='E', parents=['B', 'C', 'D', 'F', 'H'])"
   ]
  },
  {
   "cell_type": "code",
   "execution_count": 9,
   "metadata": {},
   "outputs": [
    {
     "data": {
      "text/plain": [
       "(-2900.7090437467014, 24)"
      ]
     },
     "execution_count": 9,
     "metadata": {},
     "output_type": "execute_result"
    }
   ],
   "source": [
    "model.ll_score(child='F', parents=['A', 'B', 'C'])"
   ]
  },
  {
   "cell_type": "code",
   "execution_count": 10,
   "metadata": {},
   "outputs": [
    {
     "data": {
      "text/plain": [
       "(656.4949476099937, 64)"
      ]
     },
     "execution_count": 10,
     "metadata": {},
     "output_type": "execute_result"
    }
   ],
   "source": [
    "model.ll_score(child='G', parents=['A', 'C', 'D', 'E', 'F', 'H'])"
   ]
  },
  {
   "cell_type": "code",
   "execution_count": 11,
   "metadata": {},
   "outputs": [
    {
     "data": {
      "text/plain": [
       "(3476.9487891715216, 24)"
      ]
     },
     "execution_count": 11,
     "metadata": {},
     "output_type": "execute_result"
    }
   ],
   "source": [
    "model.ll_score(child='H', parents=['B', 'C', 'F'])"
   ]
  },
  {
   "cell_type": "code",
   "execution_count": 12,
   "metadata": {},
   "outputs": [
    {
     "data": {
      "text/plain": [
       "(-1555.4939694694713, 24)"
      ]
     },
     "execution_count": 12,
     "metadata": {},
     "output_type": "execute_result"
    }
   ],
   "source": [
    "model.ll_score(child='A', parents=['B', 'C', 'F'])"
   ]
  },
  {
   "cell_type": "code",
   "execution_count": 13,
   "metadata": {},
   "outputs": [
    {
     "data": {
      "text/plain": [
       "(-6959.019592056153, 4)"
      ]
     },
     "execution_count": 13,
     "metadata": {},
     "output_type": "execute_result"
    }
   ],
   "source": [
    "model.ll_score(child='D', parents=['E', 'G', 'H'])"
   ]
  },
  {
   "cell_type": "code",
   "execution_count": 14,
   "metadata": {},
   "outputs": [
    {
     "data": {
      "text/plain": [
       "(-16567.383146026834, 1)"
      ]
     },
     "execution_count": 14,
     "metadata": {},
     "output_type": "execute_result"
    }
   ],
   "source": [
    "model.ll_score(child='E', parents=[])"
   ]
  },
  {
   "cell_type": "code",
   "execution_count": 15,
   "metadata": {},
   "outputs": [
    {
     "data": {
      "text/plain": [
       "(-21692.61065751086, 1)"
      ]
     },
     "execution_count": 15,
     "metadata": {},
     "output_type": "execute_result"
    }
   ],
   "source": [
    "model.ll_score(child='G', parents=[])"
   ]
  },
  {
   "cell_type": "code",
   "execution_count": 16,
   "metadata": {},
   "outputs": [
    {
     "data": {
      "text/plain": [
       "(3447.6991960872283, 1)"
      ]
     },
     "execution_count": 16,
     "metadata": {},
     "output_type": "execute_result"
    }
   ],
   "source": [
    "model.ll_score(child='H', parents=[])"
   ]
  },
  {
   "cell_type": "code",
   "execution_count": 17,
   "metadata": {},
   "outputs": [
    {
     "data": {
      "text/plain": [
       "(5984.188918724256, 4)"
      ]
     },
     "execution_count": 17,
     "metadata": {},
     "output_type": "execute_result"
    }
   ],
   "source": [
    "model.ll_score(child='A', parents=['D', 'E'])"
   ]
  },
  {
   "cell_type": "code",
   "execution_count": 18,
   "metadata": {},
   "outputs": [
    {
     "data": {
      "text/plain": [
       "(-4131.2493588273755, 16)"
      ]
     },
     "execution_count": 18,
     "metadata": {},
     "output_type": "execute_result"
    }
   ],
   "source": [
    "model.ll_score(child='B', parents=['A', 'G', 'H'])"
   ]
  },
  {
   "cell_type": "code",
   "execution_count": 19,
   "metadata": {},
   "outputs": [
    {
     "data": {
      "text/plain": [
       "(-5955.660649449561, 36)"
      ]
     },
     "execution_count": 19,
     "metadata": {},
     "output_type": "execute_result"
    }
   ],
   "source": [
    "model.ll_score(child='C', parents=['A', 'B', 'G'])"
   ]
  },
  {
   "cell_type": "code",
   "execution_count": 20,
   "metadata": {},
   "outputs": [
    {
     "data": {
      "text/plain": [
       "(7266.186791624474, 28)"
      ]
     },
     "execution_count": 20,
     "metadata": {},
     "output_type": "execute_result"
    }
   ],
   "source": [
    "model.ll_score(child='F', parents=['C', 'D', 'E', 'G'])"
   ]
  },
  {
   "cell_type": "code",
   "execution_count": 21,
   "metadata": {},
   "outputs": [
    {
     "data": {
      "text/plain": [
       "{'A': ('discrete', 0),\n",
       " 'B': ('discrete', 1),\n",
       " 'C': ('discrete', 2),\n",
       " 'D': ('continuous', 0),\n",
       " 'E': ('continuous', 1),\n",
       " 'F': ('discrete', 3),\n",
       " 'G': ('continuous', 2),\n",
       " 'H': ('continuous', 3)}"
      ]
     },
     "execution_count": 21,
     "metadata": {},
     "output_type": "execute_result"
    }
   ],
   "source": [
    "md._varidx"
   ]
  },
  {
   "cell_type": "code",
   "execution_count": 22,
   "metadata": {},
   "outputs": [
    {
     "name": "stdout",
     "output_type": "stream",
     "text": [
      "Changed value of parameter PreCrush to 1\n",
      "   Prev: 0  Min: 0  Max: 1  Default: 0\n",
      "Changed value of parameter CutPasses to 100000\n",
      "   Prev: -1  Min: -1  Max: 2000000000  Default: -1\n",
      "Changed value of parameter GomoryPasses to 100000\n",
      "   Prev: -1  Min: -1  Max: 2000000000  Default: -1\n",
      "Changed value of parameter MIPFocus to 2\n",
      "   Prev: 0  Min: 0  Max: 3  Default: 0\n",
      "Changed value of parameter ZeroHalfCuts to 2\n",
      "   Prev: -1  Min: -1  Max: 2  Default: -1\n",
      "Changed value of parameter MIPGap to 0.0\n",
      "   Prev: 0.0001  Min: 0.0  Max: inf  Default: 0.0001\n",
      "Changed value of parameter MIPGapAbs to 0.0\n",
      "   Prev: 1e-10  Min: 0.0  Max: inf  Default: 1e-10\n",
      "**********\n",
      "BN has score -53126.50567376423\n",
      "**********\n",
      "A<-C,D,E,F,G -490.9005354841793\n",
      "D<-C,E,F,G -9041.889160080602\n",
      "C<-E,F,G -9270.275922021377\n",
      "F<- -16208.592964728998\n",
      "E<-F -10262.247291199981\n",
      "G<-E,F -9777.114147524957\n",
      "B<-A,C,D,E,F,G 1924.5143472758573\n",
      "**********\n",
      "bnlearn modelstring = \n",
      "[A|D:C:F:E:G][D|F:C:G:E][C|F:G:E][F][E|F][G|F:E][B|D:C:A:F:E:G]\n",
      "**********\n",
      "CPDAG:\n",
      "Vertices: A,D,C,F,E,G,B\n",
      "A-B\n",
      "D-A\n",
      "D-B\n",
      "C-A\n",
      "C-B\n",
      "C-D\n",
      "F-A\n",
      "F-B\n",
      "F-C\n",
      "F-D\n",
      "F-E\n",
      "F-G\n",
      "E-A\n",
      "E-B\n",
      "E-C\n",
      "E-D\n",
      "E-G\n",
      "G-A\n",
      "G-B\n",
      "G-C\n",
      "G-D\n",
      "\n"
     ]
    },
    {
     "data": {
      "image/png": "[encoded data removed]",
      "text/plain": [
       "<Figure size 432x288 with 1 Axes>"
      ]
     },
     "metadata": {},
     "output_type": "display_data"
    }
   ],
   "source": [
    "m = Gobnilp()\n",
    "m.learn('gaussian.test', data_type='continuous', score='GaussianLL', palim=None)"
   ]
  },
  {
   "cell_type": "code",
   "execution_count": 23,
   "metadata": {
    "scrolled": false
   },
   "outputs": [
    {
     "name": "stdout",
     "output_type": "stream",
     "text": [
      "Changed value of parameter PreCrush to 1\n",
      "   Prev: 0  Min: 0  Max: 1  Default: 0\n",
      "Changed value of parameter CutPasses to 100000\n",
      "   Prev: -1  Min: -1  Max: 2000000000  Default: -1\n",
      "Changed value of parameter GomoryPasses to 100000\n",
      "   Prev: -1  Min: -1  Max: 2000000000  Default: -1\n",
      "Changed value of parameter MIPFocus to 2\n",
      "   Prev: 0  Min: 0  Max: 3  Default: 0\n",
      "Changed value of parameter ZeroHalfCuts to 2\n",
      "   Prev: -1  Min: -1  Max: 2  Default: -1\n",
      "Changed value of parameter MIPGap to 0.0\n",
      "   Prev: 0.0001  Min: 0.0  Max: inf  Default: 0.0001\n",
      "Changed value of parameter MIPGapAbs to 0.0\n",
      "   Prev: 1e-10  Min: 0.0  Max: inf  Default: 1e-10\n",
      "**********\n",
      "BN has score -26192.129205509955\n",
      "**********\n",
      "A<-E,F,G 8443.560026235356\n",
      "F<-D,E,G 7158.322853437495\n",
      "G<-B,C,D -18158.74739297181\n",
      "E<-B,D,G -6543.9972512624945\n",
      "B<- -5239.826207064481\n",
      "C<- -6474.285804788533\n",
      "D<- -9136.136735566384\n",
      "H<-A,D 3758.9813064708965\n",
      "**********\n",
      "bnlearn modelstring = \n",
      "[A|F:G:E][F|D:G:E][G|D:C:B][E|D:G:B][B][C][D][H|D:A]\n",
      "**********\n",
      "CPDAG:\n",
      "Vertices: A,F,G,E,B,C,D,H\n",
      "A->H\n",
      "F-A\n",
      "G->A\n",
      "G->E\n",
      "G->F\n",
      "E->A\n",
      "E->F\n",
      "B->E\n",
      "B->G\n",
      "C->G\n",
      "D->E\n",
      "D-F\n",
      "D->G\n",
      "D->H\n",
      "\n"
     ]
    },
    {
     "data": {
      "image/png": "[encoded data removed]",
      "text/plain": [
       "<Figure size 432x288 with 1 Axes>"
      ]
     },
     "metadata": {},
     "output_type": "display_data"
    }
   ],
   "source": [
    "m = Gobnilp()\n",
    "m.learn('clgaussian.test', data_type='mixed', score='CGaussianBIC')"
   ]
  },
  {
   "cell_type": "code",
   "execution_count": 24,
   "metadata": {},
   "outputs": [
    {
     "data": {
      "text/plain": [
       "(3435.1728510311577, 3952.417656621526)"
      ]
     },
     "execution_count": 24,
     "metadata": {},
     "output_type": "execute_result"
    }
   ],
   "source": [
    "md = MixedData('clgaussian.test')\n",
    "model = CGaussianBIC(md)\n",
    "model.score(child='H', parents='B:F'.split(':'))"
   ]
  },
  {
   "cell_type": "code",
   "execution_count": 25,
   "metadata": {},
   "outputs": [
    {
     "data": {
      "text/plain": [
       "(3443.44059949152, 3973.7106396000668)"
      ]
     },
     "execution_count": 25,
     "metadata": {},
     "output_type": "execute_result"
    }
   ],
   "source": [
    "md = MixedData('clgaussian.test')\n",
    "model = CGaussianBIC(md)\n",
    "model.score(child='H', parents=[])"
   ]
  },
  {
   "cell_type": "code",
   "execution_count": 26,
   "metadata": {},
   "outputs": [
    {
     "data": {
      "text/plain": [
       "('discrete', 2)"
      ]
     },
     "execution_count": 26,
     "metadata": {},
     "output_type": "execute_result"
    }
   ],
   "source": [
    "md._varidx['C']"
   ]
  },
  {
   "cell_type": "code",
   "execution_count": 27,
   "metadata": {},
   "outputs": [
    {
     "name": "stdout",
     "output_type": "stream",
     "text": [
      "Changed value of parameter PreCrush to 1\n",
      "   Prev: 0  Min: 0  Max: 1  Default: 0\n",
      "Changed value of parameter CutPasses to 100000\n",
      "   Prev: -1  Min: -1  Max: 2000000000  Default: -1\n",
      "Changed value of parameter GomoryPasses to 100000\n",
      "   Prev: -1  Min: -1  Max: 2000000000  Default: -1\n",
      "Changed value of parameter MIPFocus to 2\n",
      "   Prev: 0  Min: 0  Max: 3  Default: 0\n",
      "Changed value of parameter ZeroHalfCuts to 2\n",
      "   Prev: -1  Min: -1  Max: 2  Default: -1\n",
      "Changed value of parameter MIPGap to 0.0\n",
      "   Prev: 0.0001  Min: 0.0  Max: inf  Default: 0.0001\n",
      "Changed value of parameter MIPGapAbs to 0.0\n",
      "   Prev: 1e-10  Min: 0.0  Max: inf  Default: 1e-10\n",
      "**********\n",
      "BN has score -25970.7416882748\n",
      "**********\n",
      "A<-E,F,G 8469.62879900102\n",
      "F<-B -3343.347695595615\n",
      "G<-D,E,F -8058.2448730299\n",
      "E<-B,D,F -6543.377606024904\n",
      "B<-D -5226.892722215487\n",
      "D<- -9132.878138970676\n",
      "C<-B,D,G -5907.99771460882\n",
      "H<-A,B,D 3772.368263169581\n",
      "**********\n",
      "bnlearn modelstring = \n",
      "[A|F:G:E][F|B][G|D:F:E][E|D:F:B][B|D][D][C|D:G:B][H|D:A:B]\n",
      "**********\n",
      "CPDAG:\n",
      "Vertices: A,F,G,E,B,D,C,H\n",
      "A->H\n",
      "F->A\n",
      "F->E\n",
      "F->G\n",
      "G->A\n",
      "G->C\n",
      "E->A\n",
      "E->G\n",
      "B->C\n",
      "B->E\n",
      "B-F\n",
      "B->H\n",
      "D-B\n",
      "D->C\n",
      "D->E\n",
      "D->G\n",
      "D->H\n",
      "\n"
     ]
    },
    {
     "data": {
      "image/png": "[encoded data removed]",
      "text/plain": [
       "<Figure size 432x288 with 1 Axes>"
      ]
     },
     "metadata": {},
     "output_type": "display_data"
    }
   ],
   "source": [
    "m = Gobnilp()\n",
    "m.learn('clgaussian.test', data_type='mixed', score='CGaussianAIC')"
   ]
  },
  {
   "cell_type": "code",
   "execution_count": null,
   "metadata": {},
   "outputs": [],
   "source": []
  }
 ],
 "metadata": {
  "kernelspec": {
   "display_name": "pygobnilp",
   "language": "python",
   "name": "pygobnilp"
  },
  "language_info": {
   "codemirror_mode": {
    "name": "ipython",
    "version": 3
   },
   "file_extension": ".py",
   "mimetype": "text/x-python",
   "name": "python",
   "nbconvert_exporter": "python",
   "pygments_lexer": "ipython3",
   "version": "3.8.7"
  }
 },
 "nbformat": 4,
 "nbformat_minor": 4
}
